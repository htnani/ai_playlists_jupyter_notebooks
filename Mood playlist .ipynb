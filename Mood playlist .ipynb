{
 "cells": [
  {
   "cell_type": "code",
   "execution_count": null,
   "metadata": {},
   "outputs": [],
   "source": [
    "import pandas as pd\n",
    "import numpy as np"
   ]
  },
  {
   "cell_type": "code",
   "execution_count": null,
   "metadata": {},
   "outputs": [],
   "source": [
    "df_meta=pd.read_csv('df_meta.csv')\n",
    "R1 = df_meta.loc[df_meta['Name'].isin(['bbc_radio_one'])]\n",
    "R6 = df_meta.loc[df_meta['Name'].isin(['bbc_6music'])]"
   ]
  },
  {
   "cell_type": "code",
   "execution_count": null,
   "metadata": {},
   "outputs": [],
   "source": [
    "R6_sample=R6.sample(50)\n",
    "R1_sample=R1.sample(50)\n",
    "R1n2 = [R6_sample,R1_sample]\n",
    "songs = pd.concat(R1n2)\n",
    "n=0\n",
    "final_list=pd.DataFrame()\n",
    "for i in songs.index:\n",
    "    n=n+1\n",
    "#     print(i)\n",
    "    track_id = songs['Track_ID'][i]\n",
    "    extension = os.path.splitext(track_id)[0]\n",
    "#     print(extension)\n",
    "    file_path = \"data/\"+extension+\"_hl.json\"\n",
    "    data = json.load(open(file_path))\n",
    "    sample_json = data['highlevel']['mood_happy']['probability']\n",
    "    sample_sad = data['highlevel']['mood_aggressive']['probability']\n",
    "    song_list =  [{'Name': track_id, 'song_name':songs['Song'][i], 'artist_name':songs['Artist'][i], 'happy': sample_json, 'aggressive': sample_sad}]\n",
    "#     print(song_list)\n",
    "#     print(file_path)\n",
    "    df = pd.DataFrame(song_list, index=[n]) \n",
    "    final_list= final_list.append(df)\n",
    "result = final_list.sort_values(by=['happy','aggressive'],ascending=[True, True])"
   ]
  },
  {
   "cell_type": "code",
   "execution_count": null,
   "metadata": {},
   "outputs": [],
   "source": [
    "playlist = result['Name']\n",
    "playlist\n",
    "playlist.to_csv('playlist.txt', index=False)"
   ]
  },
  {
   "cell_type": "code",
   "execution_count": null,
   "metadata": {},
   "outputs": [],
   "source": [
    "playlist=pd.read_csv('song_list.csv')\n",
    "playlist = playlist['Name']\n",
    "playlist\n",
    "playlist.to_csv('playlist_v2.txt', index=False)"
   ]
  }
 ],
 "metadata": {
  "kernelspec": {
   "display_name": "Python 2",
   "language": "python",
   "name": "python2"
  },
  "language_info": {
   "codemirror_mode": {
    "name": "ipython",
    "version": 2
   },
   "file_extension": ".py",
   "mimetype": "text/x-python",
   "name": "python",
   "nbconvert_exporter": "python",
   "pygments_lexer": "ipython2",
   "version": "2.7.14"
  }
 },
 "nbformat": 4,
 "nbformat_minor": 2
}
