{
 "cells": [
  {
   "cell_type": "markdown",
   "metadata": {},
   "source": [
    "# Aggregate features for training in a DataFrame"
   ]
  },
  {
   "cell_type": "code",
   "execution_count": 1,
   "metadata": {},
   "outputs": [],
   "source": [
    "import pandas as pd\n",
    "import numpy as np\n",
    "import os.path\n",
    "import json"
   ]
  },
  {
   "cell_type": "code",
   "execution_count": 8,
   "metadata": {
    "collapsed": true
   },
   "outputs": [
    {
     "name": "stdout",
     "output_type": "stream",
     "text": [
      "0\n",
      "time: 0.010358\n",
      "1\n",
      "time: 0.000133\n",
      "2\n"
     ]
    },
    {
     "ename": "TypeError",
     "evalue": "list indices must be integers, not unicode",
     "output_type": "error",
     "traceback": [
      "\u001b[0;31m---------------------------------------------------------------------------\u001b[0m",
      "\u001b[0;31mTypeError\u001b[0m                                 Traceback (most recent call last)",
      "\u001b[0;32m<ipython-input-8-3f4c661d7dd5>\u001b[0m in \u001b[0;36m<module>\u001b[0;34m()\u001b[0m\n\u001b[1;32m     34\u001b[0m                         \u001b[0mk\u001b[0m\u001b[0;34m=\u001b[0m\u001b[0;36m0\u001b[0m\u001b[0;34m\u001b[0m\u001b[0m\n\u001b[1;32m     35\u001b[0m                         \u001b[0;32mif\u001b[0m \u001b[0;32mnot\u001b[0m\u001b[0;34m(\u001b[0m\u001b[0misinstance\u001b[0m\u001b[0;34m(\u001b[0m\u001b[0msample_json\u001b[0m\u001b[0;34m[\u001b[0m\u001b[0mkey\u001b[0m\u001b[0;34m]\u001b[0m\u001b[0;34m[\u001b[0m\u001b[0mkey2\u001b[0m\u001b[0;34m]\u001b[0m\u001b[0;34m,\u001b[0m \u001b[0mlist\u001b[0m\u001b[0;34m)\u001b[0m\u001b[0;34m)\u001b[0m\u001b[0;34m:\u001b[0m\u001b[0;34m\u001b[0m\u001b[0m\n\u001b[0;32m---> 36\u001b[0;31m                             \u001b[0msample_features\u001b[0m\u001b[0;34m[\u001b[0m\u001b[0;34m\"%s_%s\"\u001b[0m \u001b[0;34m%\u001b[0m \u001b[0;34m(\u001b[0m\u001b[0mkey\u001b[0m\u001b[0;34m,\u001b[0m \u001b[0mkey2\u001b[0m\u001b[0;34m)\u001b[0m\u001b[0;34m]\u001b[0m \u001b[0;34m=\u001b[0m \u001b[0msample_json\u001b[0m\u001b[0;34m[\u001b[0m\u001b[0mkey\u001b[0m\u001b[0;34m]\u001b[0m\u001b[0;34m[\u001b[0m\u001b[0mkey2\u001b[0m\u001b[0;34m]\u001b[0m\u001b[0;34m\u001b[0m\u001b[0m\n\u001b[0m\u001b[1;32m     37\u001b[0m                         \u001b[0;32melif\u001b[0m \u001b[0misinstance\u001b[0m\u001b[0;34m(\u001b[0m\u001b[0msample_json\u001b[0m\u001b[0;34m[\u001b[0m\u001b[0mkey\u001b[0m\u001b[0;34m]\u001b[0m\u001b[0;34m[\u001b[0m\u001b[0mkey2\u001b[0m\u001b[0;34m]\u001b[0m\u001b[0;34m,\u001b[0m \u001b[0mlist\u001b[0m\u001b[0;34m)\u001b[0m\u001b[0;34m:\u001b[0m\u001b[0;34m\u001b[0m\u001b[0m\n\u001b[1;32m     38\u001b[0m                             \u001b[0;32mfor\u001b[0m \u001b[0mnum\u001b[0m \u001b[0;32min\u001b[0m \u001b[0msample_json\u001b[0m\u001b[0;34m[\u001b[0m\u001b[0mkey\u001b[0m\u001b[0;34m]\u001b[0m\u001b[0;34m[\u001b[0m\u001b[0mkey2\u001b[0m\u001b[0;34m]\u001b[0m\u001b[0;34m:\u001b[0m\u001b[0;34m\u001b[0m\u001b[0m\n",
      "\u001b[0;31mTypeError\u001b[0m: list indices must be integers, not unicode"
     ]
    }
   ],
   "source": [
    "# Extract feature data and filter the existing data. Playout data from Rebox is stored in \n",
    "#\"kristine_playouts_filtered.csv\" file. Extracted features from the audio files are stored in idividual JSON files.\n",
    "# This script extracts and stores feature data in data frame. It also stores metadata from Rebox in a data frame \n",
    "# that matches the feature data frame in the way data is ordered.\n",
    "count=0\n",
    "data = pd.read_csv(\"kristine_playouts_filtered.csv\",\n",
    "                   names=['Name','Station', 'ID', 'Show','Date','Number', 'Song', 'Artist', 'Track_ID'])\n",
    "df = (pd.DataFrame(data))\n",
    "df_meta = pd.DataFrame()\n",
    "df_features = pd.DataFrame()\n",
    "sample_features = {}\n",
    "import time\n",
    "for i in range(len(df.index)):\n",
    "    startTime = time.clock()\n",
    "    print (i)\n",
    "    track_id = df['Track_ID'][i]\n",
    "    extension = os.path.splitext(track_id)[0]\n",
    "#     print(extension)\n",
    "    file_path = \"data/\"+extension+\"_ll.json\"\n",
    "# Check if feature file exists for a particular song. If yes store it in data frame row.\n",
    "    if os.path.exists(file_path):\n",
    "#             print(file_path)\n",
    "            count=count+1\n",
    "#            print(count)\n",
    "#         Extract features from the Json file\n",
    "            data = json.load(open(file_path))\n",
    "            df_meta = df_meta.append(df.iloc[i])\n",
    "            sample_json = data['lowlevel']\n",
    "            for key in sample_json:\n",
    "                if not(isinstance(sample_json[key], dict)):\n",
    "                    sample_features[\"%s\" % (key)] = sample_json[key]\n",
    "                else:    \n",
    "                    for key2 in sample_json[key]:\n",
    "                        k=0\n",
    "                        if not(isinstance(sample_json[key][key2], list)):\n",
    "                            sample_features[\"%s_%s\" % (key, key2)] = sample_json[key][key2]\n",
    "                        elif isinstance(sample_json[key][key2], list):\n",
    "                            for num in sample_json[key][key2]:\n",
    "                                e=0\n",
    "                                if isinstance(num, list):\n",
    "                                    for num_num in num:\n",
    "                                        e=e+1\n",
    "                                        sample_features[\"%s_%s_%d_%d\" % (key, key2,k,e)] = num_num\n",
    "                                else:\n",
    "                                    sample_features[\"%s_%s_%d\" % (key, key2,k)] = num\n",
    "                                    k=k+1\n",
    "            df_feat = pd.DataFrame(sample_features, index=[count])  \n",
    "            df_features=df_features.append(df_feat)\n",
    "    endTime = time.clock()\n",
    "    print(\"time: %s\" % (endTime - startTime))\n",
    "print('Done')\n",
    "   "
   ]
  },
  {
   "cell_type": "code",
   "execution_count": 7,
   "metadata": {},
   "outputs": [
    {
     "data": {
      "text/html": [
       "<div>\n",
       "<style scoped>\n",
       "    .dataframe tbody tr th:only-of-type {\n",
       "        vertical-align: middle;\n",
       "    }\n",
       "\n",
       "    .dataframe tbody tr th {\n",
       "        vertical-align: top;\n",
       "    }\n",
       "\n",
       "    .dataframe thead th {\n",
       "        text-align: right;\n",
       "    }\n",
       "</style>\n",
       "<table border=\"1\" class=\"dataframe\">\n",
       "  <thead>\n",
       "    <tr style=\"text-align: right;\">\n",
       "      <th></th>\n",
       "      <th>spectral_complexity_min</th>\n",
       "      <th>spectral_complexity_max</th>\n",
       "      <th>spectral_complexity_dvar2</th>\n",
       "      <th>spectral_complexity_median</th>\n",
       "      <th>spectral_complexity_dmean2</th>\n",
       "      <th>spectral_complexity_dmean</th>\n",
       "      <th>spectral_complexity_var</th>\n",
       "      <th>spectral_complexity_dvar</th>\n",
       "      <th>spectral_complexity_mean</th>\n",
       "      <th>silence_rate_20dB_min</th>\n",
       "      <th>...</th>\n",
       "      <th>hfc_mean</th>\n",
       "      <th>barkbands_crest_min</th>\n",
       "      <th>barkbands_crest_max</th>\n",
       "      <th>barkbands_crest_dvar2</th>\n",
       "      <th>barkbands_crest_median</th>\n",
       "      <th>barkbands_crest_dmean2</th>\n",
       "      <th>barkbands_crest_dmean</th>\n",
       "      <th>barkbands_crest_var</th>\n",
       "      <th>barkbands_crest_dvar</th>\n",
       "      <th>barkbands_crest_mean</th>\n",
       "    </tr>\n",
       "  </thead>\n",
       "  <tbody>\n",
       "    <tr>\n",
       "      <th>30</th>\n",
       "      <td>NaN</td>\n",
       "      <td>NaN</td>\n",
       "      <td>NaN</td>\n",
       "      <td>NaN</td>\n",
       "      <td>NaN</td>\n",
       "      <td>NaN</td>\n",
       "      <td>NaN</td>\n",
       "      <td>NaN</td>\n",
       "      <td>NaN</td>\n",
       "      <td>NaN</td>\n",
       "      <td>...</td>\n",
       "      <td>NaN</td>\n",
       "      <td>NaN</td>\n",
       "      <td>NaN</td>\n",
       "      <td>NaN</td>\n",
       "      <td>NaN</td>\n",
       "      <td>NaN</td>\n",
       "      <td>NaN</td>\n",
       "      <td>NaN</td>\n",
       "      <td>NaN</td>\n",
       "      <td>NaN</td>\n",
       "    </tr>\n",
       "  </tbody>\n",
       "</table>\n",
       "<p>1 rows × 1493 columns</p>\n",
       "</div>"
      ],
      "text/plain": [
       "    spectral_complexity_min  spectral_complexity_max  \\\n",
       "30                      NaN                      NaN   \n",
       "\n",
       "    spectral_complexity_dvar2  spectral_complexity_median  \\\n",
       "30                        NaN                         NaN   \n",
       "\n",
       "    spectral_complexity_dmean2  spectral_complexity_dmean  \\\n",
       "30                         NaN                        NaN   \n",
       "\n",
       "    spectral_complexity_var  spectral_complexity_dvar  \\\n",
       "30                      NaN                       NaN   \n",
       "\n",
       "    spectral_complexity_mean  silence_rate_20dB_min          ...           \\\n",
       "30                       NaN                    NaN          ...            \n",
       "\n",
       "    hfc_mean  barkbands_crest_min  barkbands_crest_max  barkbands_crest_dvar2  \\\n",
       "30       NaN                  NaN                  NaN                    NaN   \n",
       "\n",
       "    barkbands_crest_median  barkbands_crest_dmean2  barkbands_crest_dmean  \\\n",
       "30                     NaN                     NaN                    NaN   \n",
       "\n",
       "    barkbands_crest_var  barkbands_crest_dvar  barkbands_crest_mean  \n",
       "30                  NaN                   NaN                   NaN  \n",
       "\n",
       "[1 rows x 1493 columns]"
      ]
     },
     "execution_count": 7,
     "metadata": {},
     "output_type": "execute_result"
    }
   ],
   "source": [
    "df_feat"
   ]
  },
  {
   "cell_type": "code",
   "execution_count": null,
   "metadata": {},
   "outputs": [],
   "source": [
    "# Store feature and metadata data frames to csv files\n",
    "df_features.to_csv('df_features.csv')\n",
    "df_meta.to_csv('df_meta.csv')"
   ]
  }
 ],
 "metadata": {
  "kernelspec": {
   "display_name": "Python 2",
   "language": "python",
   "name": "python2"
  },
  "language_info": {
   "codemirror_mode": {
    "name": "ipython",
    "version": 2
   },
   "file_extension": ".py",
   "mimetype": "text/x-python",
   "name": "python",
   "nbconvert_exporter": "python",
   "pygments_lexer": "ipython2",
   "version": "2.7.14"
  }
 },
 "nbformat": 4,
 "nbformat_minor": 2
}
